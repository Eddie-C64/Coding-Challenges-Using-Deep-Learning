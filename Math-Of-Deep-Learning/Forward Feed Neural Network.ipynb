{
 "cells": [
  {
   "cell_type": "markdown",
   "metadata": {},
   "source": [
    "# Mathematics of Deep Learning\n",
    "In this short lesson we create the functions and equations needed to understand the math being used in Deep Learning."
   ]
  },
  {
   "cell_type": "code",
   "execution_count": 1,
   "metadata": {
    "collapsed": true
   },
   "outputs": [],
   "source": [
    "import numpy as np"
   ]
  },
  {
   "cell_type": "markdown",
   "metadata": {},
   "source": [
    "## Create Binary Data Arrays"
   ]
  },
  {
   "cell_type": "code",
   "execution_count": 2,
   "metadata": {
    "collapsed": true
   },
   "outputs": [],
   "source": [
    "x = np.array(\n",
    "        [\n",
    "         [0, 0, 1],\n",
    "         [0, 1, 1],\n",
    "         [1, 0, 1],\n",
    "         [1, 1, 1]\n",
    "        ]\n",
    "             )\n",
    "\n",
    "y = np.array(\n",
    "            [\n",
    "                [0],\n",
    "                [1],\n",
    "                [1],\n",
    "                [0]                \n",
    "            ]\n",
    "            )"
   ]
  },
  {
   "cell_type": "code",
   "execution_count": 3,
   "metadata": {},
   "outputs": [
    {
     "name": "stdout",
     "output_type": "stream",
     "text": [
      "[[0 0 1]\n",
      " [0 1 1]\n",
      " [1 0 1]\n",
      " [1 1 1]]\n",
      "\n",
      "[[0]\n",
      " [1]\n",
      " [1]\n",
      " [0]]\n"
     ]
    }
   ],
   "source": [
    "print x\n",
    "print'\\n', y"
   ]
  },
  {
   "cell_type": "markdown",
   "metadata": {},
   "source": [
    "## Building a Simple Forward Network"
   ]
  },
  {
   "cell_type": "code",
   "execution_count": 4,
   "metadata": {},
   "outputs": [
    {
     "name": "stdout",
     "output_type": "stream",
     "text": [
      "[[ 0.93405968  0.0944645   0.94536872  0.42963199]\n",
      " [ 0.39545765 -0.56782101  0.95254891 -0.98753949]\n",
      " [-0.49403528 -0.13041694  0.55876584 -0.60462985]]\n",
      "\n",
      "[[ 0.72598647]\n",
      " [ 0.96680135]\n",
      " [-0.67231552]\n",
      " [ 0.19466789]]\n"
     ]
    }
   ],
   "source": [
    "num_epochs = 5000\n",
    "\n",
    "np.random.seed(4)\n",
    "\n",
    "weight_1 = 2 * np.random.random((3,4)) - 1\n",
    "weight_2 = 2 * np.random.random((4,1)) - 1\n",
    "\n",
    "print weight_1\n",
    "print '\\n', weight_2"
   ]
  },
  {
   "cell_type": "code",
   "execution_count": 5,
   "metadata": {
    "collapsed": true
   },
   "outputs": [],
   "source": [
    "def non_linear(x, deriv=False):\n",
    "    if deriv == True:\n",
    "        return x*(1-x)\n",
    "    return 1. / (1. + np.exp(-x))"
   ]
  },
  {
   "cell_type": "markdown",
   "metadata": {},
   "source": [
    "## Train the Simple Model"
   ]
  },
  {
   "cell_type": "code",
   "execution_count": 9,
   "metadata": {},
   "outputs": [
    {
     "name": "stdout",
     "output_type": "stream",
     "text": [
      " Error at Epoch 0: is  0.00808433294859\n",
      "Error at Epoch 1000: is  0.0078083459104\n",
      "Error at Epoch 2000: is  0.00755821099357\n",
      "Error at Epoch 3000: is  0.00733015223882\n",
      "Error at Epoch 4000: is  0.00712112115172\n",
      "Error at Epoch 5000: is  0.00692862618316\n",
      "\n",
      "Time of execution  0.131146907806 seconds\n",
      "\n",
      "Final Error:  0.00692862618316\n"
     ]
    }
   ],
   "source": [
    "import time\n",
    "start = time.time()\n",
    "\n",
    "for epoch in xrange(num_epochs+1):\n",
    "    #feed forward through layers 0,1, and 2\n",
    "    layer_0 = x\n",
    "    layer_1 = non_linear(np.dot(layer_0, weight_1))\n",
    "    layer_2 = non_linear(np.dot(layer_1, weight_2))\n",
    "    \n",
    "    #how much did we miss the target value?\n",
    "    layer_2_error = y - layer_2\n",
    "    \n",
    "    if (epoch % 1000) == 0:\n",
    "        error_layer = str(np.mean(np.abs(layer_2_error)))\n",
    "        print \"Error at Epoch %s:\" % (epoch),'is ', error_layer\n",
    "    \n",
    "    #in what direction is the target value?\n",
    "    layer_2_delta = layer_2_error*non_linear(layer_2, deriv=True)\n",
    "    \n",
    "    #how much did each k1 value contribute to k2 error\n",
    "    layer_1_error = layer_2_delta.dot(weight_2.T)\n",
    "    \n",
    "    layer_1_delta= layer_1_error * non_linear(layer_1,deriv=True)\n",
    "    \n",
    "    weight_2 += layer_1.T.dot(layer_2_delta)\n",
    "    weight_1 += layer_0.T.dot(layer_1_delta)\n",
    "    \n",
    "end = time.time()\n",
    "print'\\nTime of execution ', (end - start), 'seconds'\n",
    "print '\\nFinal Error: ', error_layer"
   ]
  },
  {
   "cell_type": "code",
   "execution_count": null,
   "metadata": {
    "collapsed": true
   },
   "outputs": [],
   "source": []
  }
 ],
 "metadata": {
  "anaconda-cloud": {},
  "kernelspec": {
   "display_name": "Python [conda root]",
   "language": "python",
   "name": "conda-root-py"
  },
  "language_info": {
   "codemirror_mode": {
    "name": "ipython",
    "version": 2
   },
   "file_extension": ".py",
   "mimetype": "text/x-python",
   "name": "python",
   "nbconvert_exporter": "python",
   "pygments_lexer": "ipython2",
   "version": "2.7.13"
  }
 },
 "nbformat": 4,
 "nbformat_minor": 2
}
