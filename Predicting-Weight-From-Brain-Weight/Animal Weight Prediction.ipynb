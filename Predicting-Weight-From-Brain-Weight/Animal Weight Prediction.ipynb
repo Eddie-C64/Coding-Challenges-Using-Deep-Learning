{
 "cells": [
  {
   "cell_type": "markdown",
   "metadata": {
    "collapsed": true
   },
   "source": [
    "# Linear Regression Prediction\n",
    "In this notebook I create a simple linear regresion prediction using: $$Y = \\beta_{0} + \\beta_{1}X$$"
   ]
  },
  {
   "cell_type": "code",
   "execution_count": 1,
   "metadata": {
    "collapsed": true
   },
   "outputs": [],
   "source": [
    "# Dependencies\n",
    "import pandas as pd\n",
    "from sklearn import linear_model\n",
    "import matplotlib.pyplot as plt\n",
    "import numpy as np\n",
    "\n",
    "%matplotlib inline\n",
    "from IPython.display import display, Math, Latex"
   ]
  },
  {
   "cell_type": "markdown",
   "metadata": {},
   "source": [
    "## Load and Pre-Process the data"
   ]
  },
  {
   "cell_type": "code",
   "execution_count": 2,
   "metadata": {},
   "outputs": [],
   "source": [
    "text = 'brain_body.txt'\n",
    "brain_weight = pd.read_fwf(text)\n",
    "x_values = brain_weight[['Brain']]\n",
    "y_values = brain_weight[['Body']]"
   ]
  },
  {
   "cell_type": "markdown",
   "metadata": {},
   "source": [
    "## Making the Model\n",
    "Now we build the simple linear model using $$\\widehat{Body-Weight} = \\beta_{0} + \\beta{1}*\\widehat{Brain-Weight}$$"
   ]
  },
  {
   "cell_type": "code",
   "execution_count": 3,
   "metadata": {},
   "outputs": [],
   "source": [
    "def linear_model_plot(x_values, y_values, title_string=None):\n",
    "\n",
    "    body_reg = linear_model.LinearRegression()\n",
    "    body_reg.fit(x_values, y_values)\n",
    "    plt.scatter(x_values, y_values)\n",
    "    plt.plot(x_values, body_reg.predict(x_values))\n",
    "    plt.title(title_string)\n",
    "    plt.show()\n",
    "    return body_reg"
   ]
  },
  {
   "cell_type": "code",
   "execution_count": 4,
   "metadata": {},
   "outputs": [],
   "source": [
    "# Clean up the data\n",
    "challenge_text = 'challenge_dataset.txt'\n",
    "data_set = pd.read_csv(challenge_text, delimiter=',')\n",
    "xValues = pd.DataFrame(data_set[data_set.columns[0]])\n",
    "yValues = pd.DataFrame(data_set[data_set.columns[1]])"
   ]
  },
  {
   "cell_type": "markdown",
   "metadata": {},
   "source": [
    "## View the first few data points\n",
    "Let us take a look at the data from the challenge set for the first 5 rows."
   ]
  },
  {
   "cell_type": "code",
   "execution_count": 5,
   "metadata": {},
   "outputs": [
    {
     "name": "stdout",
     "output_type": "stream",
     "text": [
      "X values \n",
      "   6.1101\n",
      "0  5.5277\n",
      "1  8.5186\n",
      "2  7.0032\n",
      "3  5.8598\n",
      "4  8.3829 \n",
      "\n",
      "Y values \n",
      "    17.592\n",
      "0   9.1302\n",
      "1  13.6620\n",
      "2  11.8540\n",
      "3   6.8233\n",
      "4  11.8860 \n",
      "\n",
      "96 96\n"
     ]
    }
   ],
   "source": [
    "print'X values \\n', xValues.head(), '\\n'\n",
    "print'Y values \\n', yValues.head(), '\\n'\n",
    "\n",
    "print len(xValues), len(yValues)"
   ]
  },
  {
   "cell_type": "markdown",
   "metadata": {},
   "source": [
    "# Build the Regression Line\n",
    "Here we use scikit-learn built in library of linear predictor in order to make a best fit line.\n",
    "Then we look at how well the line fits by using Mean-Square Error."
   ]
  },
  {
   "cell_type": "code",
   "execution_count": 6,
   "metadata": {},
   "outputs": [
    {
     "name": "stdout",
     "output_type": "stream",
     "text": [
      "Coefficients: \n",
      "[[ 1.21354725]]\n",
      "Mean squared error: 6.92\n",
      "Variance score: 0.76\n"
     ]
    },
    {
     "name": "stderr",
     "output_type": "stream",
     "text": [
      "/Users/lalo/anaconda/lib/python2.7/site-packages/scipy/linalg/basic.py:1018: RuntimeWarning: internal gelsd driver lwork query error, required iwork dimension not returned. This is likely the result of LAPACK bug 0038, fixed in LAPACK 3.2.2 (released July 21, 2010). Falling back to 'gelss' driver.\n",
      "  warnings.warn(mesg, RuntimeWarning)\n"
     ]
    }
   ],
   "source": [
    "challege_reg = linear_model.LinearRegression()\n",
    "challege_reg.fit(xValues, yValues)\n",
    "\n",
    "print'Coefficients: \\n', challege_reg.coef_\n",
    "# The mean squared error\n",
    "print(\"Mean squared error: %.2f\" % np.mean((challege_reg.predict(xValues) - yValues) ** 2))\n",
    "# Explained variance score: 1 is perfect prediction\n",
    "print('Variance score: %.2f' % challege_reg.score(xValues, yValues))"
   ]
  },
  {
   "cell_type": "markdown",
   "metadata": {},
   "source": [
    "# Make the plot!"
   ]
  },
  {
   "cell_type": "code",
   "execution_count": 7,
   "metadata": {},
   "outputs": [
    {
     "data": {
      "text/plain": [
       "<matplotlib.text.Text at 0x1146a7d90>"
      ]
     },
     "execution_count": 7,
     "metadata": {},
     "output_type": "execute_result"
    },
    {
     "data": {
      "image/png": "[encoded data removed]",
      "text/plain": [
       "<matplotlib.figure.Figure at 0x1146200d0>"
      ]
     },
     "metadata": {},
     "output_type": "display_data"
    }
   ],
   "source": [
    "plt.scatter(xValues, yValues)\n",
    "plt.plot(xValues, challege_reg.predict(xValues), '#FFA500')\n",
    "plt.title('Challenge Data Regression Model')"
   ]
  },
  {
   "cell_type": "code",
   "execution_count": null,
   "metadata": {
    "collapsed": true
   },
   "outputs": [],
   "source": []
  }
 ],
 "metadata": {
  "anaconda-cloud": {},
  "kernelspec": {
   "display_name": "Python [conda root]",
   "language": "python",
   "name": "conda-root-py"
  },
  "language_info": {
   "codemirror_mode": {
    "name": "ipython",
    "version": 2
   },
   "file_extension": ".py",
   "mimetype": "text/x-python",
   "name": "python",
   "nbconvert_exporter": "python",
   "pygments_lexer": "ipython2",
   "version": "2.7.13"
  }
 },
 "nbformat": 4,
 "nbformat_minor": 2
}
