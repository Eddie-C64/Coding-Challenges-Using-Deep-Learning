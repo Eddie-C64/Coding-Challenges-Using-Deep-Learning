{
 "cells": [
  {
   "cell_type": "markdown",
   "metadata": {},
   "source": [
    "## Numpy Neural Network\n",
    "In this project I built a very low level artifical neural network with just numpy as the only dependecy.\n",
    "The main class is neural network that take numpy arrays and does a very simple forward propagation."
   ]
  },
  {
   "cell_type": "code",
   "execution_count": 1,
   "metadata": {
    "collapsed": true
   },
   "outputs": [],
   "source": [
    "from numpy import array, exp, random, dot"
   ]
  },
  {
   "cell_type": "markdown",
   "metadata": {},
   "source": [
    "## Creating a simple network\n",
    "Now that we know we only need numpy to create basic neural network, we need to create a few built in functions to make it a proper neural network such as a **sigmoid** and **sigmoid derivative**. I also add a **train** and **think** function as well."
   ]
  },
  {
   "cell_type": "code",
   "execution_count": 2,
   "metadata": {
    "collapsed": true
   },
   "outputs": [],
   "source": [
    "# The Neural network Class\n",
    "class NeuralNetwork():\n",
    "    def __init__(self):\n",
    "        # Seed the random number generator, so it generates the same numbers\n",
    "        # every time the program runs.\n",
    "        random.seed(7)\n",
    "\n",
    "        # We model a single neuron, with 3 input connections and 1 output connection.\n",
    "        # We assign random weights to a 3 x 1 matrix, with values in the range -1 to 1\n",
    "        # and mean 0.\n",
    "        self.synaptic_weights = 2 * random.random((3, 1)) - 1\n",
    "\n",
    "    # The Sigmoid function, which describes an S shaped curve.\n",
    "    # We pass the weighted sum of the inputs through this function to\n",
    "    # normalise them between 0 and 1.\n",
    "    def __sigmoid(self, x):\n",
    "        return 1 / (1 + exp(-x))\n",
    "\n",
    "    # The derivative of the Sigmoid function.\n",
    "    # This is the gradient of the Sigmoid curve.\n",
    "    # It indicates how confident we are about the existing weight.\n",
    "    def __sigmoid_derivative(self, x):\n",
    "        return x * (1 - x)\n",
    "\n",
    "    # We train the neural network through a process of trial and error.\n",
    "    # Adjusting the synaptic weights each time.\n",
    "    def train(self, training_set_inputs, training_set_outputs, number_of_training_iterations):\n",
    "        for iteration in xrange(number_of_training_iterations):\n",
    "            # Pass the training set through our neural network (a single neuron).\n",
    "            output = self.think(training_set_inputs)\n",
    "\n",
    "            # Calculate the error (The difference between the desired output\n",
    "            # and the predicted output).\n",
    "            error = training_set_outputs - output\n",
    "\n",
    "            # Multiply the error by the input and again by the gradient of the Sigmoid curve.\n",
    "            # This means less confident weights are adjusted more.\n",
    "            # This means inputs, which are zero, do not cause changes to the weights.\n",
    "            adjustment = dot(training_set_inputs.T, error * self.__sigmoid_derivative(output))\n",
    "\n",
    "            # Adjust the weights.\n",
    "            self.synaptic_weights += adjustment\n",
    "\n",
    "    # The neural network thinks.\n",
    "    def think(self, inputs):\n",
    "        # Pass inputs through our neural network (our single neuron).\n",
    "        return self.__sigmoid(dot(inputs, self.synaptic_weights))\n"
   ]
  },
  {
   "cell_type": "markdown",
   "metadata": {},
   "source": [
    "# Training on the Data\n",
    "Now we use a simple data set consiting of binary values of 0 or 1 for both X and Y arrays."
   ]
  },
  {
   "cell_type": "code",
   "execution_count": 5,
   "metadata": {},
   "outputs": [
    {
     "name": "stdout",
     "output_type": "stream",
     "text": [
      "Training Data Inputs:\n",
      "[[0 0 1]\n",
      " [1 1 1]\n",
      " [1 0 1]\n",
      " [0 1 1]]\n",
      "\n",
      "Training Data Outputs: \n",
      "[[0]\n",
      " [1]\n",
      " [1]\n",
      " [0]]\n",
      "Random starting synaptics weights:\n",
      "[[-0.84738342]\n",
      " [ 0.55983758]\n",
      " [-0.12318154]]\n",
      "\n",
      "New synaptic weights after training:\n",
      "[[ 9.67251907]\n",
      " [-0.2081314 ]\n",
      " [-4.62922771]]\n",
      "\n",
      "Considering new situation [1 0 0] -> \n",
      "\n",
      "Prediction is closest to 1\n"
     ]
    }
   ],
   "source": [
    "training_set_inputs = array([[0, 0, 1], [1, 1, 1], [1, 0, 1], [0, 1, 1]])\n",
    "training_set_outputs = array([[0, 1, 1, 0]]).T\n",
    "\n",
    "# Intinalize the Neural Network\n",
    "neural_network = NeuralNetwork()\n",
    "\n",
    "print 'Training Data Inputs:' \n",
    "print training_set_inputs\n",
    "print '\\nTraining Data Outputs: ' \n",
    "print training_set_outputs\n",
    "\n",
    "\n",
    "print 'Random starting synaptics weights:'\n",
    "print neural_network.synaptic_weights\n",
    "neural_network.train(training_set_inputs, training_set_outputs, 10000)\n",
    "print '\\nNew synaptic weights after training:'\n",
    "print neural_network.synaptic_weights\n",
    "new_situation = array([1, 0, 0])\n",
    "print '\\nConsidering new situation {} -> '.format(new_situation)\n",
    "prediction = neural_network.think(new_situation)\n",
    "prediction = float(prediction[0])\n",
    "print\n",
    "if round(prediction, 0) == 1:\n",
    "    print 'Prediction is closest to 1'\n",
    "else:\n",
    "    print 'Prediction is closest to 1'"
   ]
  },
  {
   "cell_type": "markdown",
   "metadata": {},
   "source": [
    "## The Results\n",
    "The simple network predicted very accuretely the result and trained almost instantly."
   ]
  }
 ],
 "metadata": {
  "anaconda-cloud": {},
  "kernelspec": {
   "display_name": "Python [default]",
   "language": "python",
   "name": "python2"
  },
  "language_info": {
   "codemirror_mode": {
    "name": "ipython",
    "version": 2
   },
   "file_extension": ".py",
   "mimetype": "text/x-python",
   "name": "python",
   "nbconvert_exporter": "python",
   "pygments_lexer": "ipython2",
   "version": "2.7.13"
  }
 },
 "nbformat": 4,
 "nbformat_minor": 2
}
